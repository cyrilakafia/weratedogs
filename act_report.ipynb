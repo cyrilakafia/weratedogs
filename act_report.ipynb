{
 "cells": [
  {
   "cell_type": "markdown",
   "metadata": {},
   "source": [
    "## <div align=\"center\"> Project Wrangle and Analyze Data </div>\n",
    "<div align=\"center\"> Cyril Akafia </div>\n",
    "\n"
   ]
  },
  {
   "cell_type": "markdown",
   "metadata": {},
   "source": [
    "The aim of this project offered by *Udacity* is to gather data from different sources, assess it, clean it, store it and perform analysis to discover insights and make visualizations. The data used for this project is the tweet archive of Twitter user @dog_rates (WeRateDogs). \n",
    "\n",
    "WeRateDogs is a twitter account that rates people's dogs with a humorous comment about the dog. The rating system is a unique one, the numerator is almost always greater than the denominator.\n",
    "\n",
    "The final datasets used for performing analysis to discover insights and make visualizations are:\n",
    "\n",
    "1. `twitter_archive_master.csv`: This is the master dataset that contains all the data gathered from the different sources and cleaned. The dataset contains the following columns: *'tweet_id', 'timestamp', 'source', 'text', 'expanded_urls', 'name','dog_stages', 'rating', 'retweet_count', 'favorite_count', 'jpg_url', 'img_num', 'p1', 'p1_conf', 'p1_dog', 'p2', 'p2_conf', 'p2_dog', 'p3', 'p3_conf', 'p3_dog'* \n",
    "\n",
    "2. `twitter_archive_tweet_info.csv`: This dataset contains theets and their data or information. The dataset contains the following columns: *'tweet_id', 'timestamp', 'source', 'text', 'expanded_urls', 'name', 'dog_stages', 'rating', 'retweet_count', 'favorite_count'*"
   ]
  },
  {
   "cell_type": "markdown",
   "metadata": {},
   "source": [
    "Insights and visualizations are made **ON CLEAN DATA** using python and the following libraries:\n",
    "\n",
    "- pandas\n",
    "- numpy\n",
    "- matplotlib"
   ]
  },
  {
   "cell_type": "markdown",
   "metadata": {},
   "source": [
    "The methods and functions used in performing analysis on clean data are: \n",
    "\n",
    "1. `.value_counts()`\n",
    "2. `.groupby()`\n",
    "3. `.max()`\n",
    "\n",
    "... and many more."
   ]
  },
  {
   "cell_type": "markdown",
   "metadata": {},
   "source": [
    "The insights gathered from the analysis are:\n",
    "\n",
    "1. The most common dog stage is pupper\n",
    "2. The least common dog stage is floofer\n",
    "3. The dog stage with the highest retweet count is doggo\n",
    "4. The golden retriever is the most predicted dog breed\n",
    "5. The most common dog name is Charlie\n",
    "6. The least common dog names are Lugan, Loomis, Mairi, Stormy, Hero"
   ]
  },
  {
   "cell_type": "markdown",
   "metadata": {},
   "source": [
    "**Visualizations were made for further insights**\n",
    "\n",
    "The sources of tweets, i.e., whether from iphones, tweetdeck, vine or twitter web client is visualized"
   ]
  },
  {
   "attachments": {},
   "cell_type": "markdown",
   "metadata": {},
   "source": [
    "![Sources of Tweets](sources.png \"Sources of Tweets\")\n",
    "\n",
    "Most tweets were made with an Iphone with the least tweets coming from Vine and TweetDeck"
   ]
  },
  {
   "attachments": {},
   "cell_type": "markdown",
   "metadata": {},
   "source": [
    "![Number of Tweets per Year](year.png \"Number of Tweets per Year\")\n",
    "\n",
    "2016 had the most number of tweets with 2017 having the least number of tweets"
   ]
  },
  {
   "cell_type": "markdown",
   "metadata": {},
   "source": [
    "## <div align=\"center\"> References </div>\n",
    "\n",
    "1. https://stackoverflow.com/questions/10628262/inserting-image-into-ipython-notebook-markdown\n",
    "\n",
    "2. https://help.start.gg/en/articles/1987102-customizing-text-with-markdown#:~:text=Aligning%20Text,the%20text%20in%20div%20tags.\n",
    "\n",
    "3. https://www.w3schools.com/PYTHON/matplotlib_pie_charts.asp\n",
    "\n",
    "4. https://www.digitalocean.com/community/tutorials/pandas-merge-two-dataframe"
   ]
  }
 ],
 "metadata": {
  "kernelspec": {
   "display_name": "Python 3 (ipykernel)",
   "language": "python",
   "name": "python3"
  },
  "language_info": {
   "codemirror_mode": {
    "name": "ipython",
    "version": 3
   },
   "file_extension": ".py",
   "mimetype": "text/x-python",
   "name": "python",
   "nbconvert_exporter": "python",
   "pygments_lexer": "ipython3",
   "version": "3.9.7"
  },
  "vscode": {
   "interpreter": {
    "hash": "a0c3bd7c9556569dc1ef9443ec91d3b9c536ca2b41c586f54944571d5f995c32"
   }
  }
 },
 "nbformat": 4,
 "nbformat_minor": 2
}
